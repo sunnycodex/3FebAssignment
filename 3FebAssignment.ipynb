{
 "cells": [
  {
   "cell_type": "markdown",
   "id": "938c76f1-22ea-4374-8112-872642dc361b",
   "metadata": {},
   "source": [
    "1. def keyword used to create function"
   ]
  },
  {
   "cell_type": "code",
   "execution_count": 1,
   "id": "c7cc7aa3-4bab-45b6-adcd-aabe28c9c698",
   "metadata": {},
   "outputs": [],
   "source": [
    "#2\n",
    "def odd():\n",
    "    l = []\n",
    "    for i in range(1,26):\n",
    "        if i%2 != 0:\n",
    "            l.append(i)\n",
    "    return l"
   ]
  },
  {
   "cell_type": "code",
   "execution_count": 93,
   "id": "fe83b512-688d-497d-a9ec-8795d92153ef",
   "metadata": {},
   "outputs": [
    {
     "data": {
      "text/plain": [
       "[1, 3, 5, 7, 9, 11, 13, 15, 17, 19, 21, 23, 25]"
      ]
     },
     "execution_count": 93,
     "metadata": {},
     "output_type": "execute_result"
    }
   ],
   "source": [
    "odd()\n"
   ]
  },
  {
   "cell_type": "raw",
   "id": "76e967da-0fd3-4ce4-9050-fd7945d2cb51",
   "metadata": {},
   "source": [
    "Q3. In Python, an iterator is an object that implements the iterator protocol, which consists of two methods: __iter__() and __next__()."
   ]
  },
  {
   "cell_type": "code",
   "execution_count": 16,
   "id": "a97a9631-d9e7-4ea9-ad22-6970cf638ad4",
   "metadata": {},
   "outputs": [
    {
     "name": "stdout",
     "output_type": "stream",
     "text": [
      "2\n",
      "4\n",
      "6\n",
      "8\n",
      "10\n"
     ]
    }
   ],
   "source": [
    "l3=[2, 4, 6, 8, 10, 12, 14, 16, 18, 20]\n",
    "a = iter(l3)\n",
    "print(next(a))\n",
    "print(next(a))\n",
    "print(next(a))\n",
    "print(next(a))\n",
    "print(next(a))"
   ]
  },
  {
   "cell_type": "raw",
   "id": "beb05d15-ec15-48f9-bb62-b230fd0582ab",
   "metadata": {},
   "source": [
    "4Q. In Python, a generator function is a special type of function that returns an iterator.\n",
    "The yield keyword is used in Python generator functions to return a value and suspend the execution of the function until the next value is requested. When a generator function encounters a yield statement, it returns the specified value and saves its current state so that it can be resumed later.\n"
   ]
  },
  {
   "cell_type": "code",
   "execution_count": 21,
   "id": "71194808-b6bd-40fb-93e3-f3ea2072e4ad",
   "metadata": {},
   "outputs": [],
   "source": [
    "# Example of generator function\n",
    "def fib(n):\n",
    "    x,y = 0,1\n",
    "    for i in range(n):\n",
    "        yield a\n",
    "        x,y = x, x+y\n",
    "    "
   ]
  },
  {
   "cell_type": "code",
   "execution_count": 22,
   "id": "d24bfef0-28b4-45df-b48f-35be5c134045",
   "metadata": {},
   "outputs": [
    {
     "name": "stdout",
     "output_type": "stream",
     "text": [
      "<list_iterator object at 0x7f6ccd109cc0>\n",
      "<list_iterator object at 0x7f6ccd109cc0>\n",
      "<list_iterator object at 0x7f6ccd109cc0>\n",
      "<list_iterator object at 0x7f6ccd109cc0>\n",
      "<list_iterator object at 0x7f6ccd109cc0>\n",
      "<list_iterator object at 0x7f6ccd109cc0>\n",
      "<list_iterator object at 0x7f6ccd109cc0>\n",
      "<list_iterator object at 0x7f6ccd109cc0>\n",
      "<list_iterator object at 0x7f6ccd109cc0>\n",
      "<list_iterator object at 0x7f6ccd109cc0>\n"
     ]
    }
   ],
   "source": [
    "for i in fib(10):\n",
    "    print(i)"
   ]
  },
  {
   "cell_type": "code",
   "execution_count": 24,
   "id": "08777501-fb51-469a-a9e1-dbf18e3a3657",
   "metadata": {},
   "outputs": [
    {
     "data": {
      "text/plain": [
       "['p', 'w', 's', 'k', 'i', 'l', 'l', 's']"
      ]
     },
     "execution_count": 24,
     "metadata": {},
     "output_type": "execute_result"
    }
   ],
   "source": [
    "#Q7.\n",
    "s = \"pwskills\"\n",
    "[s for s in s]\n",
    "    "
   ]
  },
  {
   "cell_type": "code",
   "execution_count": null,
   "id": "88662efa-0620-404c-8844-0e468c046d95",
   "metadata": {},
   "outputs": [],
   "source": []
  },
  {
   "cell_type": "code",
   "execution_count": null,
   "id": "e0cbb059-52d1-4c56-b77b-8edc92b8be37",
   "metadata": {},
   "outputs": [],
   "source": []
  }
 ],
 "metadata": {
  "kernelspec": {
   "display_name": "Python 3 (ipykernel)",
   "language": "python",
   "name": "python3"
  },
  "language_info": {
   "codemirror_mode": {
    "name": "ipython",
    "version": 3
   },
   "file_extension": ".py",
   "mimetype": "text/x-python",
   "name": "python",
   "nbconvert_exporter": "python",
   "pygments_lexer": "ipython3",
   "version": "3.10.8"
  }
 },
 "nbformat": 4,
 "nbformat_minor": 5
}
